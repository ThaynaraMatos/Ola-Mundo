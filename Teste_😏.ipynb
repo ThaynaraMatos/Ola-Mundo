{
  "nbformat": 4,
  "nbformat_minor": 0,
  "metadata": {
    "colab": {
      "name": "Teste 😏",
      "provenance": [],
      "collapsed_sections": [],
      "include_colab_link": true
    },
    "kernelspec": {
      "name": "python3",
      "display_name": "Python 3"
    },
    "language_info": {
      "name": "python"
    }
  },
  "cells": [
    {
      "cell_type": "markdown",
      "metadata": {
        "id": "view-in-github",
        "colab_type": "text"
      },
      "source": [
        "<a href=\"https://colab.research.google.com/github/ThaynaraMatos/Ola-Mundo/blob/main/Teste_%F0%9F%98%8F.ipynb\" target=\"_parent\"><img src=\"https://colab.research.google.com/assets/colab-badge.svg\" alt=\"Open In Colab\"/></a>"
      ]
    },
    {
      "cell_type": "code",
      "execution_count": null,
      "metadata": {
        "id": "VYY3P9LPopEl"
      },
      "outputs": [],
      "source": [
        "nome = input('\\033[1;32mOlá, digite seu nome:\\033[m').capitalize().strip()\n",
        "print(f'Bonito nome, {nome}!\\033[m')\n",
        "idade = int(input('\\033[1;33mDigite sua idade:\\033[m'))\n",
        "cor = input('\\033[1;34mDigite sua cor favorita:\\033[m')\n",
        "signo = str(input('\\033[1;35mDigite seu signo:\\033[m')).lower().strip()\n",
        "if signo == 'aquario':\n",
        "    print('\\033[1;35mCom certeza esse é o melhor \\033[1;34mSIGNO\\033[m \\033[1;35mque existe rs!\\033[m')\n",
        "elif signo == 'gemeos' or signo == 'cancer' or signo == 'peixes'or signo == 'touro':\n",
        "    print('Esse é um dos melhores signos que existe :D')\n",
        "else:\n",
        "  print('\\033[1;35mHummmm, signo interessante!\\033[m')\n",
        "print(f'\\033[1;36mÉ um grande prazer lhe conhecer {nome}!\\033[m', end='')\n",
        "print(f'\\033[1;36m Seja bem vindo(a) a comunidade!\\033[m')"
      ]
    }
  ]
}