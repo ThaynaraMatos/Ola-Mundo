{
  "nbformat": 4,
  "nbformat_minor": 0,
  "metadata": {
    "colab": {
      "name": "Jokenpô",
      "provenance": [],
      "collapsed_sections": [],
      "authorship_tag": "ABX9TyOqW/fEzr3lg1VFBn0S7paf",
      "include_colab_link": true
    },
    "kernelspec": {
      "name": "python3",
      "display_name": "Python 3"
    },
    "language_info": {
      "name": "python"
    }
  },
  "cells": [
    {
      "cell_type": "markdown",
      "metadata": {
        "id": "view-in-github",
        "colab_type": "text"
      },
      "source": [
        "<a href=\"https://colab.research.google.com/github/ThaynaraMatos/Ola-Mundo/blob/main/Jokenp%C3%B4.ipynb\" target=\"_parent\"><img src=\"https://colab.research.google.com/assets/colab-badge.svg\" alt=\"Open In Colab\"/></a>"
      ]
    },
    {
      "cell_type": "code",
      "execution_count": 10,
      "metadata": {
        "colab": {
          "base_uri": "https://localhost:8080/"
        },
        "id": "U99WuAg2xRTh",
        "outputId": "07aabcdd-07be-42df-d302-02ef7224138e"
      },
      "outputs": [
        {
          "output_type": "stream",
          "name": "stdout",
          "text": [
            "\u001b[1;31;45m Eae?! Bora jogar JOKENPÔ?!!! Isto é 🗿 📜 ✂ \u001b[m\n",
            "\u001b[1;35;41m É muito fácil! Apenas digite pedra, papel ou tesoura. De acordo com sua intuição 😀 \u001b[m \n",
            "\u001b[1;35mVocê começa:\u001b[m bola\n",
            "Opção inválida. Tente novamente.\n"
          ]
        }
      ],
      "source": [
        "import random\n",
        "print('\\033[1;31;45m Eae?! Bora jogar JOKENPÔ?!!! Isto é \\U0001f5ff \\U0001f4dc \\u2702 \\033[m\\n\\033[1;35;41m É muito fácil! Apenas digite pedra, papel ou tesoura. De acordo com sua intuição \\U0001f600 \\033[m ')\n",
        "pedra = 'PEDRA'.upper()\n",
        "papel = 'PAPEL'.upper()\n",
        "tesoura = 'TESOURA'.upper()\n",
        "lista = [pedra,papel,tesoura]\n",
        "escolha = random.choice(lista)\n",
        "usuario = str(input('\\033[1;35mVocê começa:\\033[m ')).upper().strip()\n",
        "if usuario == 'PEDRA' and escolha == 'TESOURA':\n",
        "    print(f'{escolha}')\n",
        "    print(f'A pedra quebra a tesoura. Você GANHOU \\U0001f60e')\n",
        "elif usuario == 'PEDRA' and escolha == 'PEDRA':\n",
        "    print(f'{escolha}')\n",
        "    print('Empate \\U0001f610')\n",
        "elif usuario == 'PEDRA' and escolha == 'PAPEL':\n",
        "    print(f'{escolha}')\n",
        "    print('O papel embrulha a pedra. Eu VENCI \\U0001f60e')\n",
        "elif usuario == 'PAPEL' and escolha == 'PEDRA':\n",
        "    print(f'{escolha}')\n",
        "    print('O papel embrulha a pedra. Você GANHOU \\U0001f60e')\n",
        "elif usuario == 'PAPEL' and escolha == 'TESOURA':\n",
        "    print(f'{escolha}')\n",
        "    print('A tesoura corta o papel. Eu VENCI \\U0001f60e')\n",
        "elif usuario == 'PAPEL' and escolha == 'PAPEL':\n",
        "    print(f'{escolha}')\n",
        "    print('Empate \\U0001f610')\n",
        "elif usuario == 'TESOURA' and escolha == 'PAPEL':\n",
        "    print(f'{escolha}')\n",
        "    print('A tesoura corta o papel. Você GANHOU \\U0001f60e')\n",
        "elif usuario == 'TESOURA' and escolha == 'PEDRA':\n",
        "    print(f'{escolha}')\n",
        "    print('A pedra quebra a tesoura. Eu VENCI \\U0001f60e')\n",
        "elif usuario == 'TESOURA' and escolha == 'TESOURA':\n",
        "    print(f'{escolha}')\n",
        "    print('Empate \\U0001f610')\n",
        "else:\n",
        "    print('Opção inválida. Tente novamente.')\n"
      ]
    }
  ]
}